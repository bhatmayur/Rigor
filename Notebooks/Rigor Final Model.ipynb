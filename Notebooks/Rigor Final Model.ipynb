{
 "cells": [
  {
   "cell_type": "code",
   "execution_count": 1,
   "id": "4f027100",
   "metadata": {},
   "outputs": [],
   "source": [
    "import pandas as pd\n",
    "import os\n",
    "from tensorflow import keras\n",
    "from tensorflow.keras import layers\n",
    "import numpy as np\n",
    "import matplotlib.pyplot as plt"
   ]
  },
  {
   "cell_type": "code",
   "execution_count": 51,
   "id": "a64fa00b",
   "metadata": {},
   "outputs": [
    {
     "name": "stdout",
     "output_type": "stream",
     "text": [
      "Training set has 576 observations.\n",
      "Test set has 154 observations.\n"
     ]
    }
   ],
   "source": [
    "#df['sn_value'] = df['sn_value'].astype(float)\n",
    "df = pd.read_csv(\"ethereum_final_training_data2.csv\")\n",
    "\n",
    "\n",
    "df['dates'] = pd.to_datetime(df['dates'], format='%Y/%m/%d')\n",
    "\n",
    "# Filter data by date\n",
    "start_date = pd.to_datetime('2022-01-01')\n",
    "end_date = pd.to_datetime('2022-08-01')\n",
    "\n",
    "df_train = df[df['dates'] < end_date]\n",
    "df_test = df[df['dates'] >= end_date]\n",
    "\n",
    "\n",
    "#start here\n",
    "spots_train = df_train['close_eth'].tolist()\n",
    "spots_test = df_test['close_eth'].tolist()\n",
    "\n",
    "print(\"Training set has {} observations.\".format(len(spots_train)))\n",
    "print(\"Test set has {} observations.\".format(len(spots_test)))"
   ]
  },
  {
   "cell_type": "code",
   "execution_count": 39,
   "id": "02a54bf4",
   "metadata": {},
   "outputs": [],
   "source": [
    "dates = df['dates'] #storing dates in list\n",
    "\n",
    "df = df.drop(columns=['Unnamed: 0', 'dates'], axis= 1) #droping dates and unamed column\n",
    "\n",
    "df "
   ]
  },
  {
   "cell_type": "code",
   "execution_count": 41,
   "id": "8698bbd0",
   "metadata": {},
   "outputs": [
    {
     "name": "stdout",
     "output_type": "stream",
     "text": [
      "Shape of training set: (571, 5, 1)\n",
      "Shape of test set: (149, 5, 1)\n"
     ]
    }
   ],
   "source": [
    "def to_sequences(seq_size, obs):\n",
    "    x = []\n",
    "    y = []\n",
    "\n",
    "    for i in range(len(obs)-SEQUENCE_SIZE):\n",
    "        #print(i)\n",
    "        window = obs[i:(i+SEQUENCE_SIZE)]\n",
    "        after_window = obs[i+SEQUENCE_SIZE]\n",
    "        window = [[x] for x in window]\n",
    "        #print(\"{} - {}\".format(window,after_window))\n",
    "        x.append(window)\n",
    "        y.append(after_window)\n",
    "        \n",
    "    return np.array(x),np.array(y)\n",
    "    \n",
    "    \n",
    "SEQUENCE_SIZE = 5\n",
    "x_train,y_train = to_sequences(SEQUENCE_SIZE,spots_train)\n",
    "x_test,y_test = to_sequences(SEQUENCE_SIZE,spots_test)\n",
    "\n",
    "print(\"Shape of training set: {}\".format(x_train.shape))\n",
    "print(\"Shape of test set: {}\".format(x_test.shape))"
   ]
  },
  {
   "cell_type": "code",
   "execution_count": 42,
   "id": "e3ded8e5",
   "metadata": {},
   "outputs": [],
   "source": [
    "def transformer_encoder(inputs, head_size, num_heads, ff_dim, dropout=0):\n",
    "    # Normalization and Attention\n",
    "    x = layers.LayerNormalization(epsilon=1e-6)(inputs)\n",
    "    x = layers.MultiHeadAttention(\n",
    "        key_dim=head_size, num_heads=num_heads, dropout=dropout\n",
    "    )(x, x)\n",
    "    x = layers.Dropout(dropout)(x)\n",
    "    res = x + inputs\n",
    "\n",
    "    # Feed Forward Part\n",
    "    x = layers.LayerNormalization(epsilon=1e-6)(res)\n",
    "    x = layers.Conv1D(filters=ff_dim, kernel_size=1, activation=\"relu\")(x)\n",
    "    x = layers.Dropout(dropout)(x)\n",
    "    x = layers.Conv1D(filters=inputs.shape[-1], kernel_size=1)(x)\n",
    "    return x + res"
   ]
  },
  {
   "cell_type": "code",
   "execution_count": 43,
   "id": "7a36c531",
   "metadata": {},
   "outputs": [],
   "source": [
    "def build_model(\n",
    "    input_shape,\n",
    "    head_size,\n",
    "    num_heads,\n",
    "    ff_dim,\n",
    "    num_transformer_blocks,\n",
    "    mlp_units,\n",
    "    dropout=0,\n",
    "    mlp_dropout=0,\n",
    "):\n",
    "    inputs = keras.Input(shape=input_shape)\n",
    "    x = inputs\n",
    "    for _ in range(num_transformer_blocks):\n",
    "        x = transformer_encoder(x, head_size, num_heads, ff_dim, dropout)\n",
    "\n",
    "    x = layers.GlobalAveragePooling1D(data_format=\"channels_first\")(x)\n",
    "    for dim in mlp_units:\n",
    "        x = layers.Dense(dim, activation=\"relu\")(x)\n",
    "        x = layers.Dropout(mlp_dropout)(x)\n",
    "    outputs = layers.Dense(1)(x)\n",
    "    return keras.Model(inputs, outputs)"
   ]
  },
  {
   "cell_type": "code",
   "execution_count": 44,
   "id": "16e362a9",
   "metadata": {},
   "outputs": [
    {
     "name": "stdout",
     "output_type": "stream",
     "text": [
      "Epoch 1/200\n",
      "8/8 [==============================] - 14s 277ms/step - loss: 0.0644 - val_loss: 0.0385\n",
      "Epoch 2/200\n",
      "8/8 [==============================] - 1s 112ms/step - loss: 0.0586 - val_loss: 0.0340\n",
      "Epoch 3/200\n",
      "8/8 [==============================] - 1s 114ms/step - loss: 0.0546 - val_loss: 0.0308\n",
      "Epoch 4/200\n",
      "8/8 [==============================] - 1s 110ms/step - loss: 0.0532 - val_loss: 0.0287\n",
      "Epoch 5/200\n",
      "8/8 [==============================] - 1s 106ms/step - loss: 0.0514 - val_loss: 0.0273\n",
      "Epoch 6/200\n",
      "8/8 [==============================] - 1s 108ms/step - loss: 0.0472 - val_loss: 0.0257\n",
      "Epoch 7/200\n",
      "8/8 [==============================] - 1s 113ms/step - loss: 0.0454 - val_loss: 0.0242\n",
      "Epoch 8/200\n",
      "8/8 [==============================] - 1s 111ms/step - loss: 0.0441 - val_loss: 0.0233\n",
      "Epoch 9/200\n",
      "8/8 [==============================] - 1s 105ms/step - loss: 0.0432 - val_loss: 0.0225\n",
      "Epoch 10/200\n",
      "8/8 [==============================] - 1s 105ms/step - loss: 0.0418 - val_loss: 0.0222\n",
      "Epoch 11/200\n",
      "8/8 [==============================] - 1s 109ms/step - loss: 0.0397 - val_loss: 0.0218\n",
      "Epoch 12/200\n",
      "8/8 [==============================] - 1s 104ms/step - loss: 0.0403 - val_loss: 0.0218\n",
      "Epoch 13/200\n",
      "8/8 [==============================] - 1s 106ms/step - loss: 0.0377 - val_loss: 0.0218\n",
      "Epoch 14/200\n",
      "8/8 [==============================] - 1s 111ms/step - loss: 0.0385 - val_loss: 0.0215\n",
      "Epoch 15/200\n",
      "8/8 [==============================] - 1s 108ms/step - loss: 0.0393 - val_loss: 0.0208\n",
      "Epoch 16/200\n",
      "8/8 [==============================] - 1s 107ms/step - loss: 0.0390 - val_loss: 0.0205\n",
      "Epoch 17/200\n",
      "8/8 [==============================] - 1s 108ms/step - loss: 0.0325 - val_loss: 0.0199\n",
      "Epoch 18/200\n",
      "8/8 [==============================] - 1s 107ms/step - loss: 0.0361 - val_loss: 0.0197\n",
      "Epoch 19/200\n",
      "8/8 [==============================] - 1s 106ms/step - loss: 0.0331 - val_loss: 0.0188\n",
      "Epoch 20/200\n",
      "8/8 [==============================] - 1s 107ms/step - loss: 0.0294 - val_loss: 0.0181\n",
      "Epoch 21/200\n",
      "8/8 [==============================] - 1s 106ms/step - loss: 0.0296 - val_loss: 0.0179\n",
      "Epoch 22/200\n",
      "8/8 [==============================] - 1s 107ms/step - loss: 0.0300 - val_loss: 0.0176\n",
      "Epoch 23/200\n",
      "8/8 [==============================] - 1s 103ms/step - loss: 0.0290 - val_loss: 0.0176\n",
      "Epoch 24/200\n",
      "8/8 [==============================] - 1s 105ms/step - loss: 0.0292 - val_loss: 0.0180\n",
      "Epoch 25/200\n",
      "8/8 [==============================] - 1s 105ms/step - loss: 0.0282 - val_loss: 0.0178\n",
      "Epoch 26/200\n",
      "8/8 [==============================] - 1s 105ms/step - loss: 0.0265 - val_loss: 0.0172\n",
      "Epoch 27/200\n",
      "8/8 [==============================] - 1s 113ms/step - loss: 0.0248 - val_loss: 0.0169\n",
      "Epoch 28/200\n",
      "8/8 [==============================] - 1s 110ms/step - loss: 0.0248 - val_loss: 0.0166\n",
      "Epoch 29/200\n",
      "8/8 [==============================] - 1s 111ms/step - loss: 0.0238 - val_loss: 0.0164\n",
      "Epoch 30/200\n",
      "8/8 [==============================] - 1s 111ms/step - loss: 0.0234 - val_loss: 0.0164\n",
      "Epoch 31/200\n",
      "8/8 [==============================] - 1s 107ms/step - loss: 0.0248 - val_loss: 0.0161\n",
      "Epoch 32/200\n",
      "8/8 [==============================] - 1s 113ms/step - loss: 0.0226 - val_loss: 0.0160\n",
      "Epoch 33/200\n",
      "8/8 [==============================] - 1s 110ms/step - loss: 0.0217 - val_loss: 0.0158\n",
      "Epoch 34/200\n",
      "8/8 [==============================] - 1s 109ms/step - loss: 0.0210 - val_loss: 0.0157\n",
      "Epoch 35/200\n",
      "8/8 [==============================] - 1s 104ms/step - loss: 0.0219 - val_loss: 0.0156\n",
      "Epoch 36/200\n",
      "8/8 [==============================] - 1s 98ms/step - loss: 0.0194 - val_loss: 0.0156\n",
      "Epoch 37/200\n",
      "8/8 [==============================] - 1s 104ms/step - loss: 0.0201 - val_loss: 0.0157\n",
      "Epoch 38/200\n",
      "8/8 [==============================] - 1s 109ms/step - loss: 0.0192 - val_loss: 0.0155\n",
      "Epoch 39/200\n",
      "8/8 [==============================] - 1s 110ms/step - loss: 0.0185 - val_loss: 0.0153\n",
      "Epoch 40/200\n",
      "8/8 [==============================] - 1s 107ms/step - loss: 0.0180 - val_loss: 0.0153\n",
      "Epoch 41/200\n",
      "8/8 [==============================] - 1s 108ms/step - loss: 0.0176 - val_loss: 0.0152\n",
      "Epoch 42/200\n",
      "8/8 [==============================] - 1s 104ms/step - loss: 0.0168 - val_loss: 0.0152\n",
      "Epoch 43/200\n",
      "8/8 [==============================] - 1s 103ms/step - loss: 0.0166 - val_loss: 0.0153\n",
      "Epoch 44/200\n",
      "8/8 [==============================] - 1s 107ms/step - loss: 0.0158 - val_loss: 0.0152\n",
      "Epoch 45/200\n",
      "8/8 [==============================] - 1s 109ms/step - loss: 0.0161 - val_loss: 0.0152\n",
      "Epoch 46/200\n",
      "8/8 [==============================] - 1s 107ms/step - loss: 0.0139 - val_loss: 0.0151\n",
      "Epoch 47/200\n",
      "8/8 [==============================] - 1s 106ms/step - loss: 0.0144 - val_loss: 0.0151\n",
      "Epoch 48/200\n",
      "8/8 [==============================] - 1s 106ms/step - loss: 0.0138 - val_loss: 0.0152\n",
      "Epoch 49/200\n",
      "8/8 [==============================] - 1s 105ms/step - loss: 0.0151 - val_loss: 0.0151\n",
      "Epoch 50/200\n",
      "8/8 [==============================] - 1s 107ms/step - loss: 0.0144 - val_loss: 0.0151\n",
      "Epoch 51/200\n",
      "8/8 [==============================] - 1s 105ms/step - loss: 0.0150 - val_loss: 0.0151\n",
      "Epoch 52/200\n",
      "8/8 [==============================] - 1s 108ms/step - loss: 0.0122 - val_loss: 0.0151\n",
      "Epoch 53/200\n",
      "8/8 [==============================] - 1s 102ms/step - loss: 0.0127 - val_loss: 0.0151\n",
      "Epoch 54/200\n",
      "8/8 [==============================] - 1s 106ms/step - loss: 0.0132 - val_loss: 0.0152\n",
      "Epoch 55/200\n",
      "8/8 [==============================] - 1s 99ms/step - loss: 0.0118 - val_loss: 0.0152\n",
      "Epoch 56/200\n",
      "8/8 [==============================] - 1s 116ms/step - loss: 0.0118 - val_loss: 0.0151\n",
      "Epoch 57/200\n",
      "8/8 [==============================] - 1s 101ms/step - loss: 0.0114 - val_loss: 0.0151\n",
      "Epoch 58/200\n",
      "8/8 [==============================] - 1s 104ms/step - loss: 0.0104 - val_loss: 0.0152\n",
      "Epoch 59/200\n",
      "8/8 [==============================] - 1s 103ms/step - loss: 0.0110 - val_loss: 0.0153\n",
      "Epoch 60/200\n",
      "8/8 [==============================] - 1s 101ms/step - loss: 0.0115 - val_loss: 0.0153\n",
      "Epoch 61/200\n",
      "8/8 [==============================] - 1s 105ms/step - loss: 0.0120 - val_loss: 0.0152\n",
      "Epoch 62/200\n",
      "8/8 [==============================] - 1s 103ms/step - loss: 0.0105 - val_loss: 0.0152\n",
      "Epoch 63/200\n",
      "8/8 [==============================] - 1s 100ms/step - loss: 0.0098 - val_loss: 0.0153\n",
      "Epoch 64/200\n",
      "8/8 [==============================] - 1s 105ms/step - loss: 0.0103 - val_loss: 0.0154\n",
      "Epoch 65/200\n",
      "8/8 [==============================] - 1s 102ms/step - loss: 0.0093 - val_loss: 0.0154\n",
      "Epoch 66/200\n",
      "8/8 [==============================] - 1s 108ms/step - loss: 0.0099 - val_loss: 0.0155\n",
      "5/5 [==============================] - 0s 15ms/step - loss: 0.0021\n"
     ]
    },
    {
     "data": {
      "text/plain": [
       "0.00209913682192564"
      ]
     },
     "execution_count": 44,
     "metadata": {},
     "output_type": "execute_result"
    }
   ],
   "source": [
    "input_shape = x_train.shape[1:]\n",
    "\n",
    "model = build_model(\n",
    "    input_shape,\n",
    "    head_size=256,\n",
    "    num_heads=4,\n",
    "    ff_dim=4,\n",
    "    num_transformer_blocks=4,\n",
    "    mlp_units=[],\n",
    "    mlp_dropout=0.4,\n",
    "    dropout=0.25,\n",
    ")\n",
    "\n",
    "model.compile(\n",
    "    loss=\"mean_squared_error\",\n",
    "    optimizer=keras.optimizers.Adam(learning_rate=1e-4)\n",
    ")\n",
    "#model.summary()\n",
    "\n",
    "callbacks = [keras.callbacks.EarlyStopping(patience=10, \\\n",
    "    restore_best_weights=True)]\n",
    "\n",
    "model.fit(\n",
    "    x_train,\n",
    "    y_train,\n",
    "    validation_split=0.2,\n",
    "    epochs=200,\n",
    "    batch_size=64,\n",
    "    callbacks=callbacks,\n",
    ")\n",
    "\n",
    "model.evaluate(x_test, y_test, verbose=1)"
   ]
  },
  {
   "cell_type": "code",
   "execution_count": 45,
   "id": "a4b81b89",
   "metadata": {},
   "outputs": [
    {
     "name": "stdout",
     "output_type": "stream",
     "text": [
      "5/5 [==============================] - 1s 15ms/step\n",
      "Score (RMSE): 0.04581633569000783\n"
     ]
    }
   ],
   "source": [
    "from sklearn import metrics\n",
    "\n",
    "pred = model.predict(x_test)\n",
    "score = np.sqrt(metrics.mean_squared_error(pred,y_test))\n",
    "print(\"Score (RMSE): {}\".format(score))"
   ]
  },
  {
   "cell_type": "code",
   "execution_count": 46,
   "id": "4a2b2c91",
   "metadata": {},
   "outputs": [],
   "source": [
    "# Convert dates to pandas datetime object\n",
    "dates = pd.to_datetime(dates)\n",
    "\n",
    "# Filter the dates array to only include dates with predictions and actual values\n",
    "dates = dates[:len(pred)]\n",
    "\n",
    "# Create a pandas dataframe with the predicted and actual prices and the filtered dates\n",
    "df = pd.DataFrame({'date': dates, 'predicted_price': pred.reshape(-1), 'actual_price': y_test.reshape(-1)})\n",
    "\n",
    "# Set the \"date\" column as the index of the dataframe\n",
    "df.set_index('date', inplace=True)\n",
    "\n",
    "# Plot the predicted and actual prices using matplotlib\n"
   ]
  },
  {
   "cell_type": "code",
   "execution_count": 49,
   "id": "1cf377d6",
   "metadata": {},
   "outputs": [
    {
     "data": {
      "image/png": "[encoded data removed]",
      "text/plain": [
       "<Figure size 640x480 with 1 Axes>"
      ]
     },
     "metadata": {},
     "output_type": "display_data"
    }
   ],
   "source": [
    "plt.plot(df.index, df['predicted_price']*10000, label='Predicted Price')\n",
    "plt.plot(df.index, df['actual_price']*10000, label='Actual Price')\n",
    "\n",
    "# Add x-axis label and titl\n",
    "plt.xlabel('Date')\n",
    "plt.title('Predicted vs Actual Price')\n",
    "\n",
    "# Add legend and show the plot\n",
    "plt.legend()\n",
    "plt.show()"
   ]
  },
  {
   "cell_type": "code",
   "execution_count": 14,
   "id": "21e40b66",
   "metadata": {},
   "outputs": [
    {
     "ename": "SyntaxError",
     "evalue": "invalid syntax (2815023005.py, line 1)",
     "output_type": "error",
     "traceback": [
      "\u001b[1;36m  File \u001b[1;32m\"C:\\Users\\MB-PC\\AppData\\Local\\Temp\\ipykernel_10084\\2815023005.py\"\u001b[1;36m, line \u001b[1;32m1\u001b[0m\n\u001b[1;33m    sentiment\tpre_volu_eth\tclose_eth\tprevious_close_eth\u001b[0m\n\u001b[1;37m             \t^\u001b[0m\n\u001b[1;31mSyntaxError\u001b[0m\u001b[1;31m:\u001b[0m invalid syntax\n"
     ]
    }
   ],
   "source": [
    "sentiment\tpre_volu_eth\tclose_eth\tprevious_close_eth"
   ]
  },
  {
   "cell_type": "code",
   "execution_count": 15,
   "id": "5fa323c9",
   "metadata": {},
   "outputs": [],
   "source": [
    "max_volume = 84482912776"
   ]
  },
  {
   "cell_type": "code",
   "execution_count": 16,
   "id": "2d6b505d",
   "metadata": {},
   "outputs": [],
   "source": [
    "def get_digits(num):\n",
    "    count = 0\n",
    "    while(num > 0):\n",
    "        num = num//10\n",
    "        count = count + 1\n",
    "    return count\n",
    "\n",
    "def normalize(price, max_num): #gets a single coin's prices\n",
    "    max_len_max_price = get_digits(max_num)\n",
    "    return price/10**max_len_max_price"
   ]
  },
  {
   "cell_type": "code",
   "execution_count": 17,
   "id": "3a3eb74a",
   "metadata": {},
   "outputs": [],
   "source": [
    "max_price = 4812.08740234375"
   ]
  },
  {
   "cell_type": "code",
   "execution_count": 36,
   "id": "8989f56d",
   "metadata": {},
   "outputs": [],
   "source": [
    "advanced_test_data = pd.DataFrame([2.61, normalize(4796651246,max_volume), normalize(1907.8,max_price)])\n",
    "advanced_test_data= advanced_test_data.T"
   ]
  },
  {
   "cell_type": "code",
   "execution_count": 37,
   "id": "4c04423f",
   "metadata": {},
   "outputs": [
    {
     "ename": "InvalidArgumentError",
     "evalue": "Graph execution error:\n\nDetected at node 'model/dense/MatMul' defined at (most recent call last):\n    File \"C:\\Users\\MB-PC\\anaconda3\\lib\\runpy.py\", line 197, in _run_module_as_main\n      return _run_code(code, main_globals, None,\n    File \"C:\\Users\\MB-PC\\anaconda3\\lib\\runpy.py\", line 87, in _run_code\n      exec(code, run_globals)\n    File \"C:\\Users\\MB-PC\\anaconda3\\lib\\site-packages\\ipykernel_launcher.py\", line 17, in <module>\n      app.launch_new_instance()\n    File \"C:\\Users\\MB-PC\\anaconda3\\lib\\site-packages\\traitlets\\config\\application.py\", line 846, in launch_instance\n      app.start()\n    File \"C:\\Users\\MB-PC\\anaconda3\\lib\\site-packages\\ipykernel\\kernelapp.py\", line 712, in start\n      self.io_loop.start()\n    File \"C:\\Users\\MB-PC\\anaconda3\\lib\\site-packages\\tornado\\platform\\asyncio.py\", line 199, in start\n      self.asyncio_loop.run_forever()\n    File \"C:\\Users\\MB-PC\\anaconda3\\lib\\asyncio\\base_events.py\", line 601, in run_forever\n      self._run_once()\n    File \"C:\\Users\\MB-PC\\anaconda3\\lib\\asyncio\\base_events.py\", line 1905, in _run_once\n      handle._run()\n    File \"C:\\Users\\MB-PC\\anaconda3\\lib\\asyncio\\events.py\", line 80, in _run\n      self._context.run(self._callback, *self._args)\n    File \"C:\\Users\\MB-PC\\anaconda3\\lib\\site-packages\\ipykernel\\kernelbase.py\", line 510, in dispatch_queue\n      await self.process_one()\n    File \"C:\\Users\\MB-PC\\anaconda3\\lib\\site-packages\\ipykernel\\kernelbase.py\", line 499, in process_one\n      await dispatch(*args)\n    File \"C:\\Users\\MB-PC\\anaconda3\\lib\\site-packages\\ipykernel\\kernelbase.py\", line 406, in dispatch_shell\n      await result\n    File \"C:\\Users\\MB-PC\\anaconda3\\lib\\site-packages\\ipykernel\\kernelbase.py\", line 730, in execute_request\n      reply_content = await reply_content\n    File \"C:\\Users\\MB-PC\\anaconda3\\lib\\site-packages\\ipykernel\\ipkernel.py\", line 390, in do_execute\n      res = shell.run_cell(code, store_history=store_history, silent=silent)\n    File \"C:\\Users\\MB-PC\\anaconda3\\lib\\site-packages\\ipykernel\\zmqshell.py\", line 528, in run_cell\n      return super().run_cell(*args, **kwargs)\n    File \"C:\\Users\\MB-PC\\anaconda3\\lib\\site-packages\\IPython\\core\\interactiveshell.py\", line 2914, in run_cell\n      result = self._run_cell(\n    File \"C:\\Users\\MB-PC\\anaconda3\\lib\\site-packages\\IPython\\core\\interactiveshell.py\", line 2960, in _run_cell\n      return runner(coro)\n    File \"C:\\Users\\MB-PC\\anaconda3\\lib\\site-packages\\IPython\\core\\async_helpers.py\", line 78, in _pseudo_sync_runner\n      coro.send(None)\n    File \"C:\\Users\\MB-PC\\anaconda3\\lib\\site-packages\\IPython\\core\\interactiveshell.py\", line 3185, in run_cell_async\n      has_raised = await self.run_ast_nodes(code_ast.body, cell_name,\n    File \"C:\\Users\\MB-PC\\anaconda3\\lib\\site-packages\\IPython\\core\\interactiveshell.py\", line 3377, in run_ast_nodes\n      if (await self.run_code(code, result,  async_=asy)):\n    File \"C:\\Users\\MB-PC\\anaconda3\\lib\\site-packages\\IPython\\core\\interactiveshell.py\", line 3457, in run_code\n      exec(code_obj, self.user_global_ns, self.user_ns)\n    File \"C:\\Users\\MB-PC\\AppData\\Local\\Temp\\ipykernel_10084\\552486945.py\", line 1, in <module>\n      predicted_price = model.predict(advanced_test_data)\n    File \"C:\\Users\\MB-PC\\anaconda3\\lib\\site-packages\\keras\\utils\\traceback_utils.py\", line 65, in error_handler\n      return fn(*args, **kwargs)\n    File \"C:\\Users\\MB-PC\\anaconda3\\lib\\site-packages\\keras\\engine\\training.py\", line 2253, in predict\n      tmp_batch_outputs = self.predict_function(iterator)\n    File \"C:\\Users\\MB-PC\\anaconda3\\lib\\site-packages\\keras\\engine\\training.py\", line 2041, in predict_function\n      return step_function(self, iterator)\n    File \"C:\\Users\\MB-PC\\anaconda3\\lib\\site-packages\\keras\\engine\\training.py\", line 2027, in step_function\n      outputs = model.distribute_strategy.run(run_step, args=(data,))\n    File \"C:\\Users\\MB-PC\\anaconda3\\lib\\site-packages\\keras\\engine\\training.py\", line 2015, in run_step\n      outputs = model.predict_step(data)\n    File \"C:\\Users\\MB-PC\\anaconda3\\lib\\site-packages\\keras\\engine\\training.py\", line 1983, in predict_step\n      return self(x, training=False)\n    File \"C:\\Users\\MB-PC\\anaconda3\\lib\\site-packages\\keras\\utils\\traceback_utils.py\", line 65, in error_handler\n      return fn(*args, **kwargs)\n    File \"C:\\Users\\MB-PC\\anaconda3\\lib\\site-packages\\keras\\engine\\training.py\", line 557, in __call__\n      return super().__call__(*args, **kwargs)\n    File \"C:\\Users\\MB-PC\\anaconda3\\lib\\site-packages\\keras\\utils\\traceback_utils.py\", line 65, in error_handler\n      return fn(*args, **kwargs)\n    File \"C:\\Users\\MB-PC\\anaconda3\\lib\\site-packages\\keras\\engine\\base_layer.py\", line 1097, in __call__\n      outputs = call_fn(inputs, *args, **kwargs)\n    File \"C:\\Users\\MB-PC\\anaconda3\\lib\\site-packages\\keras\\utils\\traceback_utils.py\", line 96, in error_handler\n      return fn(*args, **kwargs)\n    File \"C:\\Users\\MB-PC\\anaconda3\\lib\\site-packages\\keras\\engine\\functional.py\", line 510, in call\n      return self._run_internal_graph(inputs, training=training, mask=mask)\n    File \"C:\\Users\\MB-PC\\anaconda3\\lib\\site-packages\\keras\\engine\\functional.py\", line 667, in _run_internal_graph\n      outputs = node.layer(*args, **kwargs)\n    File \"C:\\Users\\MB-PC\\anaconda3\\lib\\site-packages\\keras\\utils\\traceback_utils.py\", line 65, in error_handler\n      return fn(*args, **kwargs)\n    File \"C:\\Users\\MB-PC\\anaconda3\\lib\\site-packages\\keras\\engine\\base_layer.py\", line 1097, in __call__\n      outputs = call_fn(inputs, *args, **kwargs)\n    File \"C:\\Users\\MB-PC\\anaconda3\\lib\\site-packages\\keras\\utils\\traceback_utils.py\", line 96, in error_handler\n      return fn(*args, **kwargs)\n    File \"C:\\Users\\MB-PC\\anaconda3\\lib\\site-packages\\keras\\layers\\core\\dense.py\", line 241, in call\n      outputs = tf.matmul(a=inputs, b=self.kernel)\nNode: 'model/dense/MatMul'\nMatrix size-incompatible: In[0]: [1,3], In[1]: [5,1]\n\t [[{{node model/dense/MatMul}}]] [Op:__inference_predict_function_9220]",
     "output_type": "error",
     "traceback": [
      "\u001b[1;31m---------------------------------------------------------------------------\u001b[0m",
      "\u001b[1;31mInvalidArgumentError\u001b[0m                      Traceback (most recent call last)",
      "\u001b[1;32m~\\AppData\\Local\\Temp\\ipykernel_10084\\552486945.py\u001b[0m in \u001b[0;36m<module>\u001b[1;34m\u001b[0m\n\u001b[1;32m----> 1\u001b[1;33m \u001b[0mpredicted_price\u001b[0m \u001b[1;33m=\u001b[0m \u001b[0mmodel\u001b[0m\u001b[1;33m.\u001b[0m\u001b[0mpredict\u001b[0m\u001b[1;33m(\u001b[0m\u001b[0madvanced_test_data\u001b[0m\u001b[1;33m)\u001b[0m\u001b[1;33m\u001b[0m\u001b[1;33m\u001b[0m\u001b[0m\n\u001b[0m",
      "\u001b[1;32m~\\anaconda3\\lib\\site-packages\\keras\\utils\\traceback_utils.py\u001b[0m in \u001b[0;36merror_handler\u001b[1;34m(*args, **kwargs)\u001b[0m\n\u001b[0;32m     68\u001b[0m             \u001b[1;31m# To get the full stack trace, call:\u001b[0m\u001b[1;33m\u001b[0m\u001b[1;33m\u001b[0m\u001b[0m\n\u001b[0;32m     69\u001b[0m             \u001b[1;31m# `tf.debugging.disable_traceback_filtering()`\u001b[0m\u001b[1;33m\u001b[0m\u001b[1;33m\u001b[0m\u001b[0m\n\u001b[1;32m---> 70\u001b[1;33m             \u001b[1;32mraise\u001b[0m \u001b[0me\u001b[0m\u001b[1;33m.\u001b[0m\u001b[0mwith_traceback\u001b[0m\u001b[1;33m(\u001b[0m\u001b[0mfiltered_tb\u001b[0m\u001b[1;33m)\u001b[0m \u001b[1;32mfrom\u001b[0m \u001b[1;32mNone\u001b[0m\u001b[1;33m\u001b[0m\u001b[1;33m\u001b[0m\u001b[0m\n\u001b[0m\u001b[0;32m     71\u001b[0m         \u001b[1;32mfinally\u001b[0m\u001b[1;33m:\u001b[0m\u001b[1;33m\u001b[0m\u001b[1;33m\u001b[0m\u001b[0m\n\u001b[0;32m     72\u001b[0m             \u001b[1;32mdel\u001b[0m \u001b[0mfiltered_tb\u001b[0m\u001b[1;33m\u001b[0m\u001b[1;33m\u001b[0m\u001b[0m\n",
      "\u001b[1;32m~\\anaconda3\\lib\\site-packages\\tensorflow\\python\\eager\\execute.py\u001b[0m in \u001b[0;36mquick_execute\u001b[1;34m(op_name, num_outputs, inputs, attrs, ctx, name)\u001b[0m\n\u001b[0;32m     52\u001b[0m   \u001b[1;32mtry\u001b[0m\u001b[1;33m:\u001b[0m\u001b[1;33m\u001b[0m\u001b[1;33m\u001b[0m\u001b[0m\n\u001b[0;32m     53\u001b[0m     \u001b[0mctx\u001b[0m\u001b[1;33m.\u001b[0m\u001b[0mensure_initialized\u001b[0m\u001b[1;33m(\u001b[0m\u001b[1;33m)\u001b[0m\u001b[1;33m\u001b[0m\u001b[1;33m\u001b[0m\u001b[0m\n\u001b[1;32m---> 54\u001b[1;33m     tensors = pywrap_tfe.TFE_Py_Execute(ctx._handle, device_name, op_name,\n\u001b[0m\u001b[0;32m     55\u001b[0m                                         inputs, attrs, num_outputs)\n\u001b[0;32m     56\u001b[0m   \u001b[1;32mexcept\u001b[0m \u001b[0mcore\u001b[0m\u001b[1;33m.\u001b[0m\u001b[0m_NotOkStatusException\u001b[0m \u001b[1;32mas\u001b[0m \u001b[0me\u001b[0m\u001b[1;33m:\u001b[0m\u001b[1;33m\u001b[0m\u001b[1;33m\u001b[0m\u001b[0m\n",
      "\u001b[1;31mInvalidArgumentError\u001b[0m: Graph execution error:\n\nDetected at node 'model/dense/MatMul' defined at (most recent call last):\n    File \"C:\\Users\\MB-PC\\anaconda3\\lib\\runpy.py\", line 197, in _run_module_as_main\n      return _run_code(code, main_globals, None,\n    File \"C:\\Users\\MB-PC\\anaconda3\\lib\\runpy.py\", line 87, in _run_code\n      exec(code, run_globals)\n    File \"C:\\Users\\MB-PC\\anaconda3\\lib\\site-packages\\ipykernel_launcher.py\", line 17, in <module>\n      app.launch_new_instance()\n    File \"C:\\Users\\MB-PC\\anaconda3\\lib\\site-packages\\traitlets\\config\\application.py\", line 846, in launch_instance\n      app.start()\n    File \"C:\\Users\\MB-PC\\anaconda3\\lib\\site-packages\\ipykernel\\kernelapp.py\", line 712, in start\n      self.io_loop.start()\n    File \"C:\\Users\\MB-PC\\anaconda3\\lib\\site-packages\\tornado\\platform\\asyncio.py\", line 199, in start\n      self.asyncio_loop.run_forever()\n    File \"C:\\Users\\MB-PC\\anaconda3\\lib\\asyncio\\base_events.py\", line 601, in run_forever\n      self._run_once()\n    File \"C:\\Users\\MB-PC\\anaconda3\\lib\\asyncio\\base_events.py\", line 1905, in _run_once\n      handle._run()\n    File \"C:\\Users\\MB-PC\\anaconda3\\lib\\asyncio\\events.py\", line 80, in _run\n      self._context.run(self._callback, *self._args)\n    File \"C:\\Users\\MB-PC\\anaconda3\\lib\\site-packages\\ipykernel\\kernelbase.py\", line 510, in dispatch_queue\n      await self.process_one()\n    File \"C:\\Users\\MB-PC\\anaconda3\\lib\\site-packages\\ipykernel\\kernelbase.py\", line 499, in process_one\n      await dispatch(*args)\n    File \"C:\\Users\\MB-PC\\anaconda3\\lib\\site-packages\\ipykernel\\kernelbase.py\", line 406, in dispatch_shell\n      await result\n    File \"C:\\Users\\MB-PC\\anaconda3\\lib\\site-packages\\ipykernel\\kernelbase.py\", line 730, in execute_request\n      reply_content = await reply_content\n    File \"C:\\Users\\MB-PC\\anaconda3\\lib\\site-packages\\ipykernel\\ipkernel.py\", line 390, in do_execute\n      res = shell.run_cell(code, store_history=store_history, silent=silent)\n    File \"C:\\Users\\MB-PC\\anaconda3\\lib\\site-packages\\ipykernel\\zmqshell.py\", line 528, in run_cell\n      return super().run_cell(*args, **kwargs)\n    File \"C:\\Users\\MB-PC\\anaconda3\\lib\\site-packages\\IPython\\core\\interactiveshell.py\", line 2914, in run_cell\n      result = self._run_cell(\n    File \"C:\\Users\\MB-PC\\anaconda3\\lib\\site-packages\\IPython\\core\\interactiveshell.py\", line 2960, in _run_cell\n      return runner(coro)\n    File \"C:\\Users\\MB-PC\\anaconda3\\lib\\site-packages\\IPython\\core\\async_helpers.py\", line 78, in _pseudo_sync_runner\n      coro.send(None)\n    File \"C:\\Users\\MB-PC\\anaconda3\\lib\\site-packages\\IPython\\core\\interactiveshell.py\", line 3185, in run_cell_async\n      has_raised = await self.run_ast_nodes(code_ast.body, cell_name,\n    File \"C:\\Users\\MB-PC\\anaconda3\\lib\\site-packages\\IPython\\core\\interactiveshell.py\", line 3377, in run_ast_nodes\n      if (await self.run_code(code, result,  async_=asy)):\n    File \"C:\\Users\\MB-PC\\anaconda3\\lib\\site-packages\\IPython\\core\\interactiveshell.py\", line 3457, in run_code\n      exec(code_obj, self.user_global_ns, self.user_ns)\n    File \"C:\\Users\\MB-PC\\AppData\\Local\\Temp\\ipykernel_10084\\552486945.py\", line 1, in <module>\n      predicted_price = model.predict(advanced_test_data)\n    File \"C:\\Users\\MB-PC\\anaconda3\\lib\\site-packages\\keras\\utils\\traceback_utils.py\", line 65, in error_handler\n      return fn(*args, **kwargs)\n    File \"C:\\Users\\MB-PC\\anaconda3\\lib\\site-packages\\keras\\engine\\training.py\", line 2253, in predict\n      tmp_batch_outputs = self.predict_function(iterator)\n    File \"C:\\Users\\MB-PC\\anaconda3\\lib\\site-packages\\keras\\engine\\training.py\", line 2041, in predict_function\n      return step_function(self, iterator)\n    File \"C:\\Users\\MB-PC\\anaconda3\\lib\\site-packages\\keras\\engine\\training.py\", line 2027, in step_function\n      outputs = model.distribute_strategy.run(run_step, args=(data,))\n    File \"C:\\Users\\MB-PC\\anaconda3\\lib\\site-packages\\keras\\engine\\training.py\", line 2015, in run_step\n      outputs = model.predict_step(data)\n    File \"C:\\Users\\MB-PC\\anaconda3\\lib\\site-packages\\keras\\engine\\training.py\", line 1983, in predict_step\n      return self(x, training=False)\n    File \"C:\\Users\\MB-PC\\anaconda3\\lib\\site-packages\\keras\\utils\\traceback_utils.py\", line 65, in error_handler\n      return fn(*args, **kwargs)\n    File \"C:\\Users\\MB-PC\\anaconda3\\lib\\site-packages\\keras\\engine\\training.py\", line 557, in __call__\n      return super().__call__(*args, **kwargs)\n    File \"C:\\Users\\MB-PC\\anaconda3\\lib\\site-packages\\keras\\utils\\traceback_utils.py\", line 65, in error_handler\n      return fn(*args, **kwargs)\n    File \"C:\\Users\\MB-PC\\anaconda3\\lib\\site-packages\\keras\\engine\\base_layer.py\", line 1097, in __call__\n      outputs = call_fn(inputs, *args, **kwargs)\n    File \"C:\\Users\\MB-PC\\anaconda3\\lib\\site-packages\\keras\\utils\\traceback_utils.py\", line 96, in error_handler\n      return fn(*args, **kwargs)\n    File \"C:\\Users\\MB-PC\\anaconda3\\lib\\site-packages\\keras\\engine\\functional.py\", line 510, in call\n      return self._run_internal_graph(inputs, training=training, mask=mask)\n    File \"C:\\Users\\MB-PC\\anaconda3\\lib\\site-packages\\keras\\engine\\functional.py\", line 667, in _run_internal_graph\n      outputs = node.layer(*args, **kwargs)\n    File \"C:\\Users\\MB-PC\\anaconda3\\lib\\site-packages\\keras\\utils\\traceback_utils.py\", line 65, in error_handler\n      return fn(*args, **kwargs)\n    File \"C:\\Users\\MB-PC\\anaconda3\\lib\\site-packages\\keras\\engine\\base_layer.py\", line 1097, in __call__\n      outputs = call_fn(inputs, *args, **kwargs)\n    File \"C:\\Users\\MB-PC\\anaconda3\\lib\\site-packages\\keras\\utils\\traceback_utils.py\", line 96, in error_handler\n      return fn(*args, **kwargs)\n    File \"C:\\Users\\MB-PC\\anaconda3\\lib\\site-packages\\keras\\layers\\core\\dense.py\", line 241, in call\n      outputs = tf.matmul(a=inputs, b=self.kernel)\nNode: 'model/dense/MatMul'\nMatrix size-incompatible: In[0]: [1,3], In[1]: [5,1]\n\t [[{{node model/dense/MatMul}}]] [Op:__inference_predict_function_9220]"
     ]
    }
   ],
   "source": [
    "predicted_price = model.predict(advanced_test_data) "
   ]
  }
 ],
 "metadata": {
  "kernelspec": {
   "display_name": "Python 3 (ipykernel)",
   "language": "python",
   "name": "python3"
  },
  "language_info": {
   "codemirror_mode": {
    "name": "ipython",
    "version": 3
   },
   "file_extension": ".py",
   "mimetype": "text/x-python",
   "name": "python",
   "nbconvert_exporter": "python",
   "pygments_lexer": "ipython3",
   "version": "3.9.13"
  }
 },
 "nbformat": 4,
 "nbformat_minor": 5
}
