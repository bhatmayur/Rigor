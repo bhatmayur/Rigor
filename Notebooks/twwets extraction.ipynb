{
 "cells": [
  {
   "cell_type": "code",
   "execution_count": 9,
   "id": "a102fcb5",
   "metadata": {},
   "outputs": [
    {
     "data": {
      "application/vnd.jupyter.widget-view+json": {
       "model_id": "c5c95d866b7b4c2e8f9aca30736ba667",
       "version_major": 2,
       "version_minor": 0
      },
      "text/plain": [
       "  0%|          | 0/5000 [00:00<?, ?it/s]"
      ]
     },
     "metadata": {},
     "output_type": "display_data"
    },
    {
     "name": "stderr",
     "output_type": "stream",
     "text": [
      "C:\\Users\\MB-PC\\AppData\\Local\\Temp\\ipykernel_16728\\3591317907.py:11: DeprecatedFeatureWarning: content is deprecated, use rawContent instead\n",
      "  data = [ tweet.date, tweet.user.username, tweet.content, tweet.likeCount, tweet.retweetCount]\n"
     ]
    }
   ],
   "source": [
    "#twitter data extraction\n",
    "import pandas as pd\n",
    "import snscrape.modules.twitter as sntwitter\n",
    "from tqdm.notebook import tqdm\n",
    "query = \"(dot or DOT OR polkadot or Polkadot) min_replies:10 min_faves:100 min_retweets:50 until:2023-03-28 since:2019-01-01\"\n",
    "tweets = []\n",
    "limit = 5000\n",
    "\n",
    "\n",
    "for tweet in tqdm(sntwitter.TwitterSearchScraper(query).get_items(), total = limit):\n",
    "    data = [ tweet.date, tweet.user.username, tweet.content, tweet.likeCount, tweet.retweetCount]\n",
    "    tweets.append(data)\n",
    "    # print(vars(tweet))\n",
    "    # break\n",
    "    if len(tweets) == limit:\n",
    "        break\n",
    "        \n",
    "#print(tweets)\n",
    "df = pd.DataFrame(tweets, columns=['Date', 'User', 'Content', 'Likes', 'Retweet'])\n",
    "#print(df)\n",
    "\n",
    "# to save to csv\n",
    "df.to_csv('tweetsethereum.csv')"
   ]
  },
  {
   "cell_type": "markdown",
   "id": "2292eb05",
   "metadata": {},
   "source": [
    "# ETH ADA and DOT"
   ]
  },
  {
   "cell_type": "code",
   "execution_count": null,
   "id": "07c3e44b",
   "metadata": {},
   "outputs": [],
   "source": []
  }
 ],
 "metadata": {
  "kernelspec": {
   "display_name": "Python 3 (ipykernel)",
   "language": "python",
   "name": "python3"
  },
  "language_info": {
   "codemirror_mode": {
    "name": "ipython",
    "version": 3
   },
   "file_extension": ".py",
   "mimetype": "text/x-python",
   "name": "python",
   "nbconvert_exporter": "python",
   "pygments_lexer": "ipython3",
   "version": "3.9.13"
  }
 },
 "nbformat": 4,
 "nbformat_minor": 5
}
